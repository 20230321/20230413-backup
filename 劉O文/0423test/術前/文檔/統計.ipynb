{
 "cells": [
  {
   "cell_type": "code",
   "execution_count": 3,
   "metadata": {},
   "outputs": [],
   "source": [
    "import pandas as pd\n",
    "import numpy as np\n",
    "import matplotlib.pyplot as plt\n",
    "import os\n",
    "import shutil\n",
    "from scipy.stats import pearsonr\n",
    "from matplotlib.pyplot import MultipleLocator\n",
    "from scipy.signal import find_peaks\n",
    "from scipy.signal import butter, lfilter, filtfilt, savgol_filter\n",
    "from scipy.signal import find_peaks\n",
    "\n",
    "\n",
    "df1 = pd.read_csv(\"右一.csv\",keep_default_na=False)\n",
    "df2 = pd.read_csv(\"左一.csv\",keep_default_na=False)\n",
    "df3 = pd.read_csv(\"右二.csv\",keep_default_na=False)\n",
    "df4 = pd.read_csv(\"左二.csv\",keep_default_na=False)\n",
    "listR1=df1.start.tolist() \n",
    "listL1=df2.start.tolist() \n",
    "listR2=df3.start.tolist() \n",
    "listL2=df4.start.tolist() \n"
   ]
  },
  {
   "cell_type": "code",
   "execution_count": 4,
   "metadata": {},
   "outputs": [],
   "source": [
    "\n",
    "def all(list_total):\n",
    "\n",
    "    listplace=[]\n",
    "    listtime=[]\n",
    "    flag=0\n",
    "\n",
    "    for i in range(80000):\n",
    "        listplace.append(0)\n",
    "        listtime.append(0)\n",
    "\n",
    "\n",
    "    for i in range(0,len(list_total),2):\n",
    "        #print(list_total[i])\n",
    "        if(list_total[i+1]>2):\n",
    "            listplace[list_total[i]]=listplace[list_total[i]]+1\n",
    "\n",
    "    for i in range(len(listplace)):\n",
    "        if(listplace[i]==3):\n",
    "            print(i)\n"
   ]
  },
  {
   "cell_type": "code",
   "execution_count": null,
   "metadata": {},
   "outputs": [],
   "source": [
    "all(listR1)"
   ]
  },
  {
   "cell_type": "code",
   "execution_count": 6,
   "metadata": {},
   "outputs": [
    {
     "name": "stdout",
     "output_type": "stream",
     "text": [
      "882\n",
      "1080\n",
      "1249\n"
     ]
    }
   ],
   "source": [
    "all(listR2)\n"
   ]
  },
  {
   "cell_type": "code",
   "execution_count": null,
   "metadata": {},
   "outputs": [],
   "source": [
    "all(listL1)"
   ]
  },
  {
   "cell_type": "code",
   "execution_count": 8,
   "metadata": {},
   "outputs": [
    {
     "name": "stdout",
     "output_type": "stream",
     "text": [
      "882\n",
      "1080\n",
      "1249\n"
     ]
    }
   ],
   "source": [
    "\n",
    "all(listL2)"
   ]
  },
  {
   "cell_type": "code",
   "execution_count": null,
   "metadata": {},
   "outputs": [],
   "source": []
  }
 ],
 "metadata": {
  "kernelspec": {
   "display_name": "Python 3",
   "language": "python",
   "name": "python3"
  },
  "language_info": {
   "codemirror_mode": {
    "name": "ipython",
    "version": 3
   },
   "file_extension": ".py",
   "mimetype": "text/x-python",
   "name": "python",
   "nbconvert_exporter": "python",
   "pygments_lexer": "ipython3",
   "version": "3.9.7"
  },
  "orig_nbformat": 4
 },
 "nbformat": 4,
 "nbformat_minor": 2
}
