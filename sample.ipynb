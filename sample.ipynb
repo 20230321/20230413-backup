{
 "cells": [
  {
   "cell_type": "code",
   "execution_count": 1,
   "metadata": {},
   "outputs": [
    {
     "name": "stdout",
     "output_type": "stream",
     "text": [
      "Sample entropy: 3.2771447329921766\n"
     ]
    }
   ],
   "source": [
    "import numpy as np\n",
    "from nolds import sampen\n",
    "\n",
    "# 生成隨機數據\n",
    "data = np.random.rand(100)\n",
    "\n",
    "# 設置樣本熵參數（m = 2, r = 0.2 * std(data)）\n",
    "m = 2\n",
    "r = 0.2 * np.std(data)\n",
    "\n",
    "# 計算樣本熵\n",
    "sample_entropy = sampen(data, emb_dim=m, tolerance=r)\n",
    "\n",
    "print(\"Sample entropy:\", sample_entropy)"
   ]
  },
  {
   "cell_type": "code",
   "execution_count": null,
   "metadata": {},
   "outputs": [],
   "source": []
  }
 ],
 "metadata": {
  "kernelspec": {
   "display_name": "Python 3",
   "language": "python",
   "name": "python3"
  },
  "language_info": {
   "codemirror_mode": {
    "name": "ipython",
    "version": 3
   },
   "file_extension": ".py",
   "mimetype": "text/x-python",
   "name": "python",
   "nbconvert_exporter": "python",
   "pygments_lexer": "ipython3",
   "version": "3.9.7"
  },
  "orig_nbformat": 4
 },
 "nbformat": 4,
 "nbformat_minor": 2
}
