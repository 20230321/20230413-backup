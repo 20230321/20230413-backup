{
 "cells": [
  {
   "cell_type": "code",
   "execution_count": 1,
   "metadata": {},
   "outputs": [],
   "source": [
    "import pandas as pd\n",
    "import numpy as np\n",
    "import matplotlib.pyplot as plt\n",
    "import os\n",
    "import shutil\n",
    "from scipy.stats import pearsonr\n",
    "from matplotlib.pyplot import MultipleLocator\n",
    "from scipy.signal import find_peaks\n",
    "from scipy.signal import butter, lfilter, filtfilt, savgol_filter\n",
    "from scipy.signal import find_peaks\n",
    "\n",
    "\n",
    "df1 = pd.read_csv(\"右一.csv\",keep_default_na=False)\n",
    "df2 = pd.read_csv(\"左一.csv\",keep_default_na=False)\n",
    "df3 = pd.read_csv(\"右二.csv\",keep_default_na=False)\n",
    "df4 = pd.read_csv(\"左二.csv\",keep_default_na=False)\n",
    "listR1=df1.start.tolist() \n",
    "listL1=df2.start.tolist() \n",
    "listR2=df3.start.tolist() \n",
    "listL2=df4.start.tolist() \n"
   ]
  },
  {
   "cell_type": "code",
   "execution_count": 2,
   "metadata": {},
   "outputs": [],
   "source": [
    "\n",
    "def all(list_total):\n",
    "\n",
    "    listplace=[]\n",
    "    listtime=[]\n",
    "    listfeature=[]\n",
    "    flag=0\n",
    "\n",
    "    for i in range(80000):\n",
    "        listplace.append(0)\n",
    "        #listtime.append(0)\n",
    "        listfeature.append\n",
    "\n",
    "\n",
    "    for i in range(0,len(list_total),3):\n",
    "        #print(list_total[i])\n",
    "        if(list_total[i+1]>4):\n",
    "            listplace[list_total[i]]=listplace[list_total[i]]+1\n",
    "\n",
    "    for i in range(len(listplace)):\n",
    "        if(listplace[i]==3):\n",
    "            listtime.append(i)\n",
    "\n",
    "    return listtime\n"
   ]
  },
  {
   "cell_type": "code",
   "execution_count": 3,
   "metadata": {},
   "outputs": [
    {
     "name": "stdout",
     "output_type": "stream",
     "text": [
      "右腳(一級疼痛)XYZ重複點統計如下:\n",
      "[3028, 3134, 3238]\n",
      "5\n",
      "5\n",
      "6\n"
     ]
    }
   ],
   "source": [
    "print(\"右腳(一級疼痛)XYZ重複點統計如下:\")\n",
    "allcheck=all(listR1)\n",
    "print(allcheck)    \n",
    "for i in range(len(allcheck)):\n",
    "    for j in range(len(listR1)):\n",
    "        if(allcheck[i]==listR1[j]):\n",
    "            print(listR1[j+1])\n",
    "            break"
   ]
  },
  {
   "cell_type": "code",
   "execution_count": 4,
   "metadata": {},
   "outputs": [
    {
     "name": "stdout",
     "output_type": "stream",
     "text": [
      "右腳(二級疼痛)XYZ重複點統計如下:\n",
      "[15279, 15370, 15470]\n",
      "5\n",
      "5\n",
      "5\n"
     ]
    }
   ],
   "source": [
    "print(\"右腳(二級疼痛)XYZ重複點統計如下:\")\n",
    "allcheck=all(listR2)\n",
    "print(allcheck)    \n",
    "for i in range(len(allcheck)):\n",
    "    for j in range(len(listR2)):\n",
    "        if(allcheck[i]==listR2[j]):\n",
    "            print(listR2[j+1])\n",
    "            break"
   ]
  },
  {
   "cell_type": "code",
   "execution_count": 5,
   "metadata": {},
   "outputs": [
    {
     "name": "stdout",
     "output_type": "stream",
     "text": [
      "左腳(一級疼痛)XYZ重複點統計如下:\n",
      "[3028, 3134, 3238]\n",
      "10\n",
      "10\n",
      "5\n"
     ]
    }
   ],
   "source": [
    "print(\"左腳(一級疼痛)XYZ重複點統計如下:\")\n",
    "allcheck=all(listL1)\n",
    "print(allcheck)    \n",
    "for i in range(len(allcheck)):\n",
    "    for j in range(len(listL1)):\n",
    "        if(allcheck[i]==listL1[j]):\n",
    "            print(listL1[j+1])\n",
    "            break"
   ]
  },
  {
   "cell_type": "code",
   "execution_count": 6,
   "metadata": {},
   "outputs": [
    {
     "name": "stdout",
     "output_type": "stream",
     "text": [
      "左腳(二級疼痛)XYZ重複點統計如下:\n",
      "[15279, 15370, 15470]\n",
      "5\n",
      "6\n",
      "6\n"
     ]
    }
   ],
   "source": [
    "print(\"左腳(二級疼痛)XYZ重複點統計如下:\")\n",
    "allcheck=all(listL2)\n",
    "print(allcheck)    \n",
    "for i in range(len(allcheck)):\n",
    "    for j in range(len(listL2)):\n",
    "        if(allcheck[i]==listL2[j]):\n",
    "            print(listL2[j+1])\n",
    "            break"
   ]
  },
  {
   "cell_type": "code",
   "execution_count": 13,
   "metadata": {},
   "outputs": [
    {
     "data": {
      "image/png": "[encoded data removed]",
      "text/plain": [
       "<Figure size 576x432 with 1 Axes>"
      ]
     },
     "metadata": {
      "needs_background": "light"
     },
     "output_type": "display_data"
    }
   ],
   "source": [
    "import numpy as np\n",
    "import matplotlib.pyplot as plt\n",
    "\n",
    "# 生成假數據\n",
    "np.random.seed(123)\n",
    "method1 = np.random.normal(loc=10, scale=2, size=50)\n",
    "method2 = np.random.normal(loc=11, scale=2, size=50)\n",
    "\n",
    "# 計算平均值和差異\n",
    "mean = np.mean([method1, method2], axis=0)\n",
    "diff = method1 - method2\n",
    "md = np.mean(diff)\n",
    "sd = np.std(diff, axis=0)\n",
    "\n",
    "# 繪製Bland-Altman圖表\n",
    "fig, ax = plt.subplots(figsize=(8, 6))\n",
    "ax.scatter(mean, diff, c='b', s=60, alpha=0.5)\n",
    "\n",
    "# 水平線\n",
    "ax.axhline(md, color='gray', linestyle='--', linewidth=2)\n",
    "\n",
    "# 上下限\n",
    "ax.axhline(md + 1.96*sd, color='gray', linestyle='--', linewidth=2)\n",
    "ax.axhline(md - 1.96*sd, color='gray', linestyle='--', linewidth=2)\n",
    "\n",
    "# 美化圖表\n",
    "ax.set_xlabel('Average', fontsize=16)\n",
    "ax.set_ylabel('Difference', fontsize=16)\n",
    "ax.tick_params(labelsize=14)\n",
    "ax.set_xlim([5, 15])\n",
    "ax.set_ylim([-8, 8])\n",
    "ax.set_title('Bland-Altman Plot', fontsize=18)\n",
    "\n",
    "plt.show()"
   ]
  },
  {
   "cell_type": "code",
   "execution_count": null,
   "metadata": {},
   "outputs": [],
   "source": []
  }
 ],
 "metadata": {
  "kernelspec": {
   "display_name": "Python 3",
   "language": "python",
   "name": "python3"
  },
  "language_info": {
   "codemirror_mode": {
    "name": "ipython",
    "version": 3
   },
   "file_extension": ".py",
   "mimetype": "text/x-python",
   "name": "python",
   "nbconvert_exporter": "python",
   "pygments_lexer": "ipython3",
   "version": "3.9.7"
  },
  "orig_nbformat": 4
 },
 "nbformat": 4,
 "nbformat_minor": 2
}
